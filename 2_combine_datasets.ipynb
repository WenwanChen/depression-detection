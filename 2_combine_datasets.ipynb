{
 "cells": [
  {
   "cell_type": "markdown",
   "metadata": {},
   "source": [
    "## Combining Datasets"
   ]
  },
  {
   "cell_type": "code",
   "execution_count": 20,
   "metadata": {},
   "outputs": [],
   "source": [
    "import numpy as np\n",
    "import pandas as pd\n",
    "import matplotlib.pyplot as plt\n",
    "import seaborn as sns"
   ]
  },
  {
   "cell_type": "markdown",
   "metadata": {},
   "source": [
    "**Read in non-depressive dataset**"
   ]
  },
  {
   "cell_type": "code",
   "execution_count": 2,
   "metadata": {},
   "outputs": [],
   "source": [
    "df0 = pd.read_csv(\"./data/general_tweets.csv\")"
   ]
  },
  {
   "cell_type": "code",
   "execution_count": 3,
   "metadata": {},
   "outputs": [],
   "source": [
    "df1 = pd.read_csv(\"./data/tweets_final_1_clean.csv\", engine='python')\n",
    "df2 = pd.read_csv(\"./data/tweets_final_2_clean.csv\", engine='python')\n",
    "df3 = pd.read_csv(\"./data/tweets_final_3_clean.csv\", engine='python')"
   ]
  },
  {
   "cell_type": "code",
   "execution_count": 4,
   "metadata": {},
   "outputs": [],
   "source": [
    "df4 = pd.read_csv(\"./data/tweets_final_4_clean.csv\", engine='python')\n",
    "df5 = pd.read_csv(\"./data/tweets_final_5_clean.csv\", engine='python')\n",
    "df6 = pd.read_csv(\"./data/tweets_final_6_clean.csv\", engine='python')"
   ]
  },
  {
   "cell_type": "code",
   "execution_count": 7,
   "metadata": {},
   "outputs": [],
   "source": [
    "pd.set_option('display.max_colwidth', -1)"
   ]
  },
  {
   "cell_type": "markdown",
   "metadata": {},
   "source": [
    "**briefly check the content**"
   ]
  },
  {
   "cell_type": "code",
   "execution_count": 29,
   "metadata": {},
   "outputs": [
    {
     "data": {
      "text/html": [
       "<div>\n",
       "<style scoped>\n",
       "    .dataframe tbody tr th:only-of-type {\n",
       "        vertical-align: middle;\n",
       "    }\n",
       "\n",
       "    .dataframe tbody tr th {\n",
       "        vertical-align: top;\n",
       "    }\n",
       "\n",
       "    .dataframe thead th {\n",
       "        text-align: right;\n",
       "    }\n",
       "</style>\n",
       "<table border=\"1\" class=\"dataframe\">\n",
       "  <thead>\n",
       "    <tr style=\"text-align: right;\">\n",
       "      <th></th>\n",
       "      <th>Unnamed: 0</th>\n",
       "      <th>ID</th>\n",
       "      <th>Tweet</th>\n",
       "      <th>Affect Dimension</th>\n",
       "      <th>Intensity Score</th>\n",
       "      <th>target</th>\n",
       "    </tr>\n",
       "  </thead>\n",
       "  <tbody>\n",
       "    <tr>\n",
       "      <th>0</th>\n",
       "      <td>0</td>\n",
       "      <td>2018-En-03332</td>\n",
       "      <td>Be happy. Be confident. Be kind.\\n\\n #KissablesLoveSMShopmag\\nAllOutDenimFor KISSMARC</td>\n",
       "      <td>joy</td>\n",
       "      <td>0.661</td>\n",
       "      <td>0</td>\n",
       "    </tr>\n",
       "    <tr>\n",
       "      <th>1</th>\n",
       "      <td>1</td>\n",
       "      <td>2018-En-01146</td>\n",
       "      <td>@queenjlouise @mamaw_gereck awe thanks 😊</td>\n",
       "      <td>fear</td>\n",
       "      <td>0.089</td>\n",
       "      <td>0</td>\n",
       "    </tr>\n",
       "  </tbody>\n",
       "</table>\n",
       "</div>"
      ],
      "text/plain": [
       "   Unnamed: 0             ID  \\\n",
       "0  0           2018-En-03332   \n",
       "1  1           2018-En-01146   \n",
       "\n",
       "                                                                                   Tweet  \\\n",
       "0  Be happy. Be confident. Be kind.\\n\\n #KissablesLoveSMShopmag\\nAllOutDenimFor KISSMARC   \n",
       "1  @queenjlouise @mamaw_gereck awe thanks 😊                                                \n",
       "\n",
       "  Affect Dimension  Intensity Score  target  \n",
       "0  joy              0.661            0       \n",
       "1  fear             0.089            0       "
      ]
     },
     "execution_count": 29,
     "metadata": {},
     "output_type": "execute_result"
    }
   ],
   "source": [
    "df0.head(2)"
   ]
  },
  {
   "cell_type": "code",
   "execution_count": null,
   "metadata": {},
   "outputs": [],
   "source": [
    "cols_to_keeep = ['Tweet','target']\n",
    "data_xls = data_xls.drop(cols_to_drop, axis=1)"
   ]
  },
  {
   "cell_type": "code",
   "execution_count": 30,
   "metadata": {},
   "outputs": [],
   "source": [
    "df0 = df0[['Tweet','target']].copy()"
   ]
  },
  {
   "cell_type": "code",
   "execution_count": 31,
   "metadata": {},
   "outputs": [
    {
     "data": {
      "text/html": [
       "<div>\n",
       "<style scoped>\n",
       "    .dataframe tbody tr th:only-of-type {\n",
       "        vertical-align: middle;\n",
       "    }\n",
       "\n",
       "    .dataframe tbody tr th {\n",
       "        vertical-align: top;\n",
       "    }\n",
       "\n",
       "    .dataframe thead th {\n",
       "        text-align: right;\n",
       "    }\n",
       "</style>\n",
       "<table border=\"1\" class=\"dataframe\">\n",
       "  <thead>\n",
       "    <tr style=\"text-align: right;\">\n",
       "      <th></th>\n",
       "      <th>Tweet</th>\n",
       "      <th>target</th>\n",
       "    </tr>\n",
       "  </thead>\n",
       "  <tbody>\n",
       "    <tr>\n",
       "      <th>0</th>\n",
       "      <td>Be happy. Be confident. Be kind.\\n\\n #KissablesLoveSMShopmag\\nAllOutDenimFor KISSMARC</td>\n",
       "      <td>0</td>\n",
       "    </tr>\n",
       "    <tr>\n",
       "      <th>1</th>\n",
       "      <td>@queenjlouise @mamaw_gereck awe thanks 😊</td>\n",
       "      <td>0</td>\n",
       "    </tr>\n",
       "  </tbody>\n",
       "</table>\n",
       "</div>"
      ],
      "text/plain": [
       "                                                                                   Tweet  \\\n",
       "0  Be happy. Be confident. Be kind.\\n\\n #KissablesLoveSMShopmag\\nAllOutDenimFor KISSMARC   \n",
       "1  @queenjlouise @mamaw_gereck awe thanks 😊                                                \n",
       "\n",
       "   target  \n",
       "0  0       \n",
       "1  0       "
      ]
     },
     "execution_count": 31,
     "metadata": {},
     "output_type": "execute_result"
    }
   ],
   "source": [
    "df0.head(2)"
   ]
  },
  {
   "cell_type": "code",
   "execution_count": 13,
   "metadata": {},
   "outputs": [
    {
     "data": {
      "text/html": [
       "<div>\n",
       "<style scoped>\n",
       "    .dataframe tbody tr th:only-of-type {\n",
       "        vertical-align: middle;\n",
       "    }\n",
       "\n",
       "    .dataframe tbody tr th {\n",
       "        vertical-align: top;\n",
       "    }\n",
       "\n",
       "    .dataframe thead th {\n",
       "        text-align: right;\n",
       "    }\n",
       "</style>\n",
       "<table border=\"1\" class=\"dataframe\">\n",
       "  <thead>\n",
       "    <tr style=\"text-align: right;\">\n",
       "      <th></th>\n",
       "      <th>Unnamed: 0</th>\n",
       "      <th>id</th>\n",
       "      <th>conversation_id</th>\n",
       "      <th>date</th>\n",
       "      <th>username</th>\n",
       "      <th>tweet_processed</th>\n",
       "      <th>hashtags</th>\n",
       "      <th>tweet_original</th>\n",
       "      <th>target</th>\n",
       "    </tr>\n",
       "  </thead>\n",
       "  <tbody>\n",
       "    <tr>\n",
       "      <th>0</th>\n",
       "      <td>1</td>\n",
       "      <td>1163050916330770433</td>\n",
       "      <td>1163050916330770433</td>\n",
       "      <td>2019-08-18</td>\n",
       "      <td>lowerdepression</td>\n",
       "      <td>mood can be caused by infectious diseases, nutritional deficiencies, neurological conditions, and physiological problems.</td>\n",
       "      <td>['#depressed']</td>\n",
       "      <td>#Depressed mood can be caused by infectious diseases, nutritional deficiencies, neurological conditions, and physiological problems.</td>\n",
       "      <td>1</td>\n",
       "    </tr>\n",
       "    <tr>\n",
       "      <th>1</th>\n",
       "      <td>6</td>\n",
       "      <td>1163030382360629248</td>\n",
       "      <td>1163030382360629248</td>\n",
       "      <td>2019-08-18</td>\n",
       "      <td>chrisbontheweb</td>\n",
       "      <td>With all of this unnessary  family drama, I feel like moving far away and starting over again. From one thing to another I just feel . Hope I get through this</td>\n",
       "      <td>['#depressed']</td>\n",
       "      <td>With all of this unnessary  family drama, I feel like moving far away and starting over again. From one thing to another I just feel #depressed. Hope I get through this</td>\n",
       "      <td>1</td>\n",
       "    </tr>\n",
       "  </tbody>\n",
       "</table>\n",
       "</div>"
      ],
      "text/plain": [
       "   Unnamed: 0                   id      conversation_id        date  \\\n",
       "0  1           1163050916330770433  1163050916330770433  2019-08-18   \n",
       "1  6           1163030382360629248  1163030382360629248  2019-08-18   \n",
       "\n",
       "          username  \\\n",
       "0  lowerdepression   \n",
       "1  chrisbontheweb    \n",
       "\n",
       "                                                                                                                                                  tweet_processed  \\\n",
       "0   mood can be caused by infectious diseases, nutritional deficiencies, neurological conditions, and physiological problems.                                       \n",
       "1  With all of this unnessary  family drama, I feel like moving far away and starting over again. From one thing to another I just feel . Hope I get through this   \n",
       "\n",
       "         hashtags  \\\n",
       "0  ['#depressed']   \n",
       "1  ['#depressed']   \n",
       "\n",
       "                                                                                                                                                             tweet_original  \\\n",
       "0  #Depressed mood can be caused by infectious diseases, nutritional deficiencies, neurological conditions, and physiological problems.                                       \n",
       "1  With all of this unnessary  family drama, I feel like moving far away and starting over again. From one thing to another I just feel #depressed. Hope I get through this   \n",
       "\n",
       "   target  \n",
       "0  1       \n",
       "1  1       "
      ]
     },
     "execution_count": 13,
     "metadata": {},
     "output_type": "execute_result"
    }
   ],
   "source": [
    "df1.head(2)"
   ]
  },
  {
   "cell_type": "code",
   "execution_count": 14,
   "metadata": {},
   "outputs": [
    {
     "data": {
      "text/html": [
       "<div>\n",
       "<style scoped>\n",
       "    .dataframe tbody tr th:only-of-type {\n",
       "        vertical-align: middle;\n",
       "    }\n",
       "\n",
       "    .dataframe tbody tr th {\n",
       "        vertical-align: top;\n",
       "    }\n",
       "\n",
       "    .dataframe thead th {\n",
       "        text-align: right;\n",
       "    }\n",
       "</style>\n",
       "<table border=\"1\" class=\"dataframe\">\n",
       "  <thead>\n",
       "    <tr style=\"text-align: right;\">\n",
       "      <th></th>\n",
       "      <th>Unnamed: 0</th>\n",
       "      <th>id</th>\n",
       "      <th>conversation_id</th>\n",
       "      <th>date</th>\n",
       "      <th>username</th>\n",
       "      <th>tweet_processed</th>\n",
       "      <th>hashtags</th>\n",
       "      <th>tweet_original</th>\n",
       "      <th>target</th>\n",
       "    </tr>\n",
       "  </thead>\n",
       "  <tbody>\n",
       "    <tr>\n",
       "      <th>0</th>\n",
       "      <td>1681</td>\n",
       "      <td>1.160000e+18</td>\n",
       "      <td>1.160000e+18</td>\n",
       "      <td>8/17/2019</td>\n",
       "      <td>samplergal1</td>\n",
       "      <td>Looking for some beautiful images. Having a really crappy week, and need some support. . Post some great beauty.  Thank you.</td>\n",
       "      <td>['#depression']</td>\n",
       "      <td>Looking for some beautiful images. Having a really crappy week, and need some support. #depression. Post some great beauty.  Thank you.</td>\n",
       "      <td>1</td>\n",
       "    </tr>\n",
       "    <tr>\n",
       "      <th>1</th>\n",
       "      <td>1709</td>\n",
       "      <td>1.160000e+18</td>\n",
       "      <td>1.160000e+18</td>\n",
       "      <td>8/17/2019</td>\n",
       "      <td>focusbalance</td>\n",
       "      <td>When teens feel down, there are ways they can cope with these feelings to avoid serious , such as make new friends or social connections and participate in sports or school activities. Call Focus &amp; Balance at 210-858-9980 to learn more and see how we can help.  pic.twitter.com/ydrYcTBD2r</td>\n",
       "      <td>['#depression']</td>\n",
       "      <td>When teens feel down, there are ways they can cope with these feelings to avoid serious #depression, such as make new friends or social connections and participate in sports or school activities. Call Focus &amp; Balance at 210-858-9980 to learn more and see how we can help.  pic.twitter.com/ydrYcTBD2r</td>\n",
       "      <td>0</td>\n",
       "    </tr>\n",
       "  </tbody>\n",
       "</table>\n",
       "</div>"
      ],
      "text/plain": [
       "   Unnamed: 0            id  conversation_id       date      username  \\\n",
       "0  1681        1.160000e+18  1.160000e+18     8/17/2019  samplergal1    \n",
       "1  1709        1.160000e+18  1.160000e+18     8/17/2019  focusbalance   \n",
       "\n",
       "                                                                                                                                                                                                                                                                                    tweet_processed  \\\n",
       "0  Looking for some beautiful images. Having a really crappy week, and need some support. . Post some great beauty.  Thank you.                                                                                                                                                                       \n",
       "1  When teens feel down, there are ways they can cope with these feelings to avoid serious , such as make new friends or social connections and participate in sports or school activities. Call Focus & Balance at 210-858-9980 to learn more and see how we can help.  pic.twitter.com/ydrYcTBD2r   \n",
       "\n",
       "          hashtags  \\\n",
       "0  ['#depression']   \n",
       "1  ['#depression']   \n",
       "\n",
       "                                                                                                                                                                                                                                                                                                tweet_original  \\\n",
       "0  Looking for some beautiful images. Having a really crappy week, and need some support. #depression. Post some great beauty.  Thank you.                                                                                                                                                                       \n",
       "1  When teens feel down, there are ways they can cope with these feelings to avoid serious #depression, such as make new friends or social connections and participate in sports or school activities. Call Focus & Balance at 210-858-9980 to learn more and see how we can help.  pic.twitter.com/ydrYcTBD2r   \n",
       "\n",
       "   target  \n",
       "0  1       \n",
       "1  0       "
      ]
     },
     "execution_count": 14,
     "metadata": {},
     "output_type": "execute_result"
    }
   ],
   "source": [
    "df2.head(2)"
   ]
  },
  {
   "cell_type": "code",
   "execution_count": 15,
   "metadata": {},
   "outputs": [
    {
     "data": {
      "text/html": [
       "<div>\n",
       "<style scoped>\n",
       "    .dataframe tbody tr th:only-of-type {\n",
       "        vertical-align: middle;\n",
       "    }\n",
       "\n",
       "    .dataframe tbody tr th {\n",
       "        vertical-align: top;\n",
       "    }\n",
       "\n",
       "    .dataframe thead th {\n",
       "        text-align: right;\n",
       "    }\n",
       "</style>\n",
       "<table border=\"1\" class=\"dataframe\">\n",
       "  <thead>\n",
       "    <tr style=\"text-align: right;\">\n",
       "      <th></th>\n",
       "      <th>Unnamed: 0</th>\n",
       "      <th>id</th>\n",
       "      <th>conversation_id</th>\n",
       "      <th>date</th>\n",
       "      <th>username</th>\n",
       "      <th>tweet_processed</th>\n",
       "      <th>hashtags</th>\n",
       "      <th>tweet_original</th>\n",
       "      <th>target</th>\n",
       "    </tr>\n",
       "  </thead>\n",
       "  <tbody>\n",
       "    <tr>\n",
       "      <th>0</th>\n",
       "      <td>462</td>\n",
       "      <td>6.813312e+17</td>\n",
       "      <td>6.813312e+17</td>\n",
       "      <td>2015-12-28</td>\n",
       "      <td>siradjames</td>\n",
       "      <td>Why is tomorrow Monday???  &amp;  LOL</td>\n",
       "      <td>['#sad', '#depressed']</td>\n",
       "      <td>Why is tomorrow Monday??? #Sad &amp; #Depressed LOL</td>\n",
       "      <td>0</td>\n",
       "    </tr>\n",
       "    <tr>\n",
       "      <th>1</th>\n",
       "      <td>465</td>\n",
       "      <td>6.813228e+17</td>\n",
       "      <td>6.813228e+17</td>\n",
       "      <td>2015-12-28</td>\n",
       "      <td>angel_is_dead</td>\n",
       "      <td>I feel like I'm annoying like Always…</td>\n",
       "      <td>['#depressed', '#selfhate']</td>\n",
       "      <td>I feel like I'm annoying like Always… #depressed #selfhate</td>\n",
       "      <td>1</td>\n",
       "    </tr>\n",
       "  </tbody>\n",
       "</table>\n",
       "</div>"
      ],
      "text/plain": [
       "   Unnamed: 0            id  conversation_id        date       username  \\\n",
       "0  462         6.813312e+17  6.813312e+17     2015-12-28  siradjames      \n",
       "1  465         6.813228e+17  6.813228e+17     2015-12-28  angel_is_dead   \n",
       "\n",
       "                         tweet_processed                     hashtags  \\\n",
       "0  Why is tomorrow Monday???  &  LOL      ['#sad', '#depressed']        \n",
       "1  I feel like I'm annoying like Always…  ['#depressed', '#selfhate']   \n",
       "\n",
       "                                               tweet_original  target  \n",
       "0  Why is tomorrow Monday??? #Sad & #Depressed LOL             0       \n",
       "1  I feel like I'm annoying like Always… #depressed #selfhate  1       "
      ]
     },
     "execution_count": 15,
     "metadata": {},
     "output_type": "execute_result"
    }
   ],
   "source": [
    "df3.head(2)"
   ]
  },
  {
   "cell_type": "code",
   "execution_count": 10,
   "metadata": {},
   "outputs": [
    {
     "data": {
      "text/html": [
       "<div>\n",
       "<style scoped>\n",
       "    .dataframe tbody tr th:only-of-type {\n",
       "        vertical-align: middle;\n",
       "    }\n",
       "\n",
       "    .dataframe tbody tr th {\n",
       "        vertical-align: top;\n",
       "    }\n",
       "\n",
       "    .dataframe thead th {\n",
       "        text-align: right;\n",
       "    }\n",
       "</style>\n",
       "<table border=\"1\" class=\"dataframe\">\n",
       "  <thead>\n",
       "    <tr style=\"text-align: right;\">\n",
       "      <th></th>\n",
       "      <th>Unnamed: 0</th>\n",
       "      <th>id</th>\n",
       "      <th>conversation_id</th>\n",
       "      <th>date</th>\n",
       "      <th>username</th>\n",
       "      <th>tweet_processed</th>\n",
       "      <th>hashtags</th>\n",
       "      <th>tweet_original</th>\n",
       "      <th>target</th>\n",
       "    </tr>\n",
       "  </thead>\n",
       "  <tbody>\n",
       "    <tr>\n",
       "      <th>0</th>\n",
       "      <td>0</td>\n",
       "      <td>8.150000e+17</td>\n",
       "      <td>8.150000e+17</td>\n",
       "      <td>12/31/2016</td>\n",
       "      <td>sterlovesfood</td>\n",
       "      <td>2016 was the best year so far</td>\n",
       "      <td>['#salty', '#depressed']</td>\n",
       "      <td>2016 was the best year so far  #salty #depressed</td>\n",
       "      <td>0</td>\n",
       "    </tr>\n",
       "    <tr>\n",
       "      <th>1</th>\n",
       "      <td>7</td>\n",
       "      <td>8.150000e+17</td>\n",
       "      <td>8.150000e+17</td>\n",
       "      <td>12/31/2016</td>\n",
       "      <td>shannonmburke91</td>\n",
       "      <td>So over new years think I'm just going to sleep into the new year.</td>\n",
       "      <td>['#depressed', '#over2016']</td>\n",
       "      <td>So over new years think I'm just going to sleep into the new year. #depressed #over2016</td>\n",
       "      <td>0</td>\n",
       "    </tr>\n",
       "  </tbody>\n",
       "</table>\n",
       "</div>"
      ],
      "text/plain": [
       "   Unnamed: 0            id  conversation_id        date         username  \\\n",
       "0  0           8.150000e+17  8.150000e+17     12/31/2016  sterlovesfood     \n",
       "1  7           8.150000e+17  8.150000e+17     12/31/2016  shannonmburke91   \n",
       "\n",
       "                                                        tweet_processed  \\\n",
       "0  2016 was the best year so far                                          \n",
       "1  So over new years think I'm just going to sleep into the new year.     \n",
       "\n",
       "                      hashtags  \\\n",
       "0  ['#salty', '#depressed']      \n",
       "1  ['#depressed', '#over2016']   \n",
       "\n",
       "                                                                            tweet_original  \\\n",
       "0  2016 was the best year so far  #salty #depressed                                          \n",
       "1  So over new years think I'm just going to sleep into the new year. #depressed #over2016   \n",
       "\n",
       "   target  \n",
       "0  0       \n",
       "1  0       "
      ]
     },
     "execution_count": 10,
     "metadata": {},
     "output_type": "execute_result"
    }
   ],
   "source": [
    "df4.head(2)"
   ]
  },
  {
   "cell_type": "code",
   "execution_count": 11,
   "metadata": {},
   "outputs": [
    {
     "data": {
      "text/html": [
       "<div>\n",
       "<style scoped>\n",
       "    .dataframe tbody tr th:only-of-type {\n",
       "        vertical-align: middle;\n",
       "    }\n",
       "\n",
       "    .dataframe tbody tr th {\n",
       "        vertical-align: top;\n",
       "    }\n",
       "\n",
       "    .dataframe thead th {\n",
       "        text-align: right;\n",
       "    }\n",
       "</style>\n",
       "<table border=\"1\" class=\"dataframe\">\n",
       "  <thead>\n",
       "    <tr style=\"text-align: right;\">\n",
       "      <th></th>\n",
       "      <th>Unnamed: 0</th>\n",
       "      <th>id</th>\n",
       "      <th>conversation_id</th>\n",
       "      <th>date</th>\n",
       "      <th>username</th>\n",
       "      <th>tweet_processed</th>\n",
       "      <th>hashtags</th>\n",
       "      <th>tweet_original</th>\n",
       "      <th>target</th>\n",
       "    </tr>\n",
       "  </thead>\n",
       "  <tbody>\n",
       "    <tr>\n",
       "      <th>0</th>\n",
       "      <td>1979</td>\n",
       "      <td>8.149690e+17</td>\n",
       "      <td>8.149690e+17</td>\n",
       "      <td>12/30/2016</td>\n",
       "      <td>nicosantana83</td>\n",
       "      <td>On topic of famous people , apparently stuff needs to be put in place for mental illness. What about non famous people</td>\n",
       "      <td>['#depression']</td>\n",
       "      <td>On topic of famous people , apparently stuff needs to be put in place for mental illness. What about non famous people #depression</td>\n",
       "      <td>0</td>\n",
       "    </tr>\n",
       "    <tr>\n",
       "      <th>1</th>\n",
       "      <td>1985</td>\n",
       "      <td>8.149660e+17</td>\n",
       "      <td>8.149660e+17</td>\n",
       "      <td>12/30/2016</td>\n",
       "      <td>ketaminesavedme</td>\n",
       "      <td>Tripped hard today! This is promising!</td>\n",
       "      <td>['#ketamine', '#depression', '#bipolar']</td>\n",
       "      <td>Tripped hard today! This is promising! #ketamine #depression #bipolar</td>\n",
       "      <td>1</td>\n",
       "    </tr>\n",
       "  </tbody>\n",
       "</table>\n",
       "</div>"
      ],
      "text/plain": [
       "   Unnamed: 0            id  conversation_id        date         username  \\\n",
       "0  1979        8.149690e+17  8.149690e+17     12/30/2016  nicosantana83     \n",
       "1  1985        8.149660e+17  8.149660e+17     12/30/2016  ketaminesavedme   \n",
       "\n",
       "                                                                                                           tweet_processed  \\\n",
       "0  On topic of famous people , apparently stuff needs to be put in place for mental illness. What about non famous people    \n",
       "1  Tripped hard today! This is promising!                                                                                    \n",
       "\n",
       "                                   hashtags  \\\n",
       "0  ['#depression']                            \n",
       "1  ['#ketamine', '#depression', '#bipolar']   \n",
       "\n",
       "                                                                                                                       tweet_original  \\\n",
       "0  On topic of famous people , apparently stuff needs to be put in place for mental illness. What about non famous people #depression   \n",
       "1  Tripped hard today! This is promising! #ketamine #depression #bipolar                                                                \n",
       "\n",
       "   target  \n",
       "0  0       \n",
       "1  1       "
      ]
     },
     "execution_count": 11,
     "metadata": {},
     "output_type": "execute_result"
    }
   ],
   "source": [
    "df5.head(2)"
   ]
  },
  {
   "cell_type": "code",
   "execution_count": 12,
   "metadata": {},
   "outputs": [
    {
     "data": {
      "text/html": [
       "<div>\n",
       "<style scoped>\n",
       "    .dataframe tbody tr th:only-of-type {\n",
       "        vertical-align: middle;\n",
       "    }\n",
       "\n",
       "    .dataframe tbody tr th {\n",
       "        vertical-align: top;\n",
       "    }\n",
       "\n",
       "    .dataframe thead th {\n",
       "        text-align: right;\n",
       "    }\n",
       "</style>\n",
       "<table border=\"1\" class=\"dataframe\">\n",
       "  <thead>\n",
       "    <tr style=\"text-align: right;\">\n",
       "      <th></th>\n",
       "      <th>Unnamed: 0</th>\n",
       "      <th>id</th>\n",
       "      <th>conversation_id</th>\n",
       "      <th>date</th>\n",
       "      <th>username</th>\n",
       "      <th>tweet_processed</th>\n",
       "      <th>hashtags</th>\n",
       "      <th>tweet_original</th>\n",
       "      <th>target</th>\n",
       "    </tr>\n",
       "  </thead>\n",
       "  <tbody>\n",
       "    <tr>\n",
       "      <th>0</th>\n",
       "      <td>462</td>\n",
       "      <td>6.813312e+17</td>\n",
       "      <td>6.813312e+17</td>\n",
       "      <td>2015-12-28</td>\n",
       "      <td>siradjames</td>\n",
       "      <td>Why is tomorrow Monday???  &amp;  LOL</td>\n",
       "      <td>['#sad', '#depressed']</td>\n",
       "      <td>Why is tomorrow Monday??? #Sad &amp; #Depressed LOL</td>\n",
       "      <td>0</td>\n",
       "    </tr>\n",
       "    <tr>\n",
       "      <th>1</th>\n",
       "      <td>465</td>\n",
       "      <td>6.813228e+17</td>\n",
       "      <td>6.813228e+17</td>\n",
       "      <td>2015-12-28</td>\n",
       "      <td>angel_is_dead</td>\n",
       "      <td>I feel like I'm annoying like Always…</td>\n",
       "      <td>['#depressed', '#selfhate']</td>\n",
       "      <td>I feel like I'm annoying like Always… #depressed #selfhate</td>\n",
       "      <td>1</td>\n",
       "    </tr>\n",
       "  </tbody>\n",
       "</table>\n",
       "</div>"
      ],
      "text/plain": [
       "   Unnamed: 0            id  conversation_id        date       username  \\\n",
       "0  462         6.813312e+17  6.813312e+17     2015-12-28  siradjames      \n",
       "1  465         6.813228e+17  6.813228e+17     2015-12-28  angel_is_dead   \n",
       "\n",
       "                         tweet_processed                     hashtags  \\\n",
       "0  Why is tomorrow Monday???  &  LOL      ['#sad', '#depressed']        \n",
       "1  I feel like I'm annoying like Always…  ['#depressed', '#selfhate']   \n",
       "\n",
       "                                               tweet_original  target  \n",
       "0  Why is tomorrow Monday??? #Sad & #Depressed LOL             0       \n",
       "1  I feel like I'm annoying like Always… #depressed #selfhate  1       "
      ]
     },
     "execution_count": 12,
     "metadata": {},
     "output_type": "execute_result"
    }
   ],
   "source": [
    "df3.head(2)"
   ]
  },
  {
   "cell_type": "code",
   "execution_count": 25,
   "metadata": {},
   "outputs": [
    {
     "data": {
      "text/plain": [
       "[Text(0, 0.5, 'counts'), Text(0.5, 0, 'Labels'), Text(0.5, 1.0, 'df6')]"
      ]
     },
     "execution_count": 25,
     "metadata": {},
     "output_type": "execute_result"
    },
    {
     "data": {
      "image/png": "[encoded data removed]",
      "text/plain": [
       "<Figure size 1080x576 with 6 Axes>"
      ]
     },
     "metadata": {
      "needs_background": "light"
     },
     "output_type": "display_data"
    }
   ],
   "source": [
    "fig = plt.figure(figsize=(15,8))\n",
    "fig.subplots_adjust(hspace=0.4, wspace=0.4)\n",
    "\n",
    "ax = fig.add_subplot(2,3,1)\n",
    "ax = sns.barplot(x=df1.target.unique(),y=df1.target.value_counts())\n",
    "ax.set(xlabel='Labels', ylabel=\"counts\", title=\"df1\")\n",
    "\n",
    "ax1 = fig.add_subplot(2,3,2)\n",
    "ax1 = sns.barplot(x=df2.target.unique(),y=df2.target.value_counts())\n",
    "ax1.set(xlabel='Labels', ylabel=\"counts\", title=\"df2\")\n",
    "\n",
    "ax2 = fig.add_subplot(2,3,3)\n",
    "ax2 = sns.barplot(x=df3.target.unique(),y=df3.target.value_counts())\n",
    "ax2.set(xlabel='Labels', ylabel=\"counts\", title=\"df3\")\n",
    "\n",
    "ax4 = fig.add_subplot(2,3,4)\n",
    "ax4 = sns.barplot(x=df4.target.unique(),y=df4.target.value_counts())\n",
    "ax4.set(xlabel='Labels', ylabel=\"counts\", title=\"df4\")\n",
    "\n",
    "ax5 = fig.add_subplot(2,3,5)\n",
    "ax5 = sns.barplot(x=df5.target.unique(),y=df5.target.value_counts())\n",
    "ax5.set(xlabel='Labels', ylabel=\"counts\", title=\"df5\")\n",
    "\n",
    "ax6 = fig.add_subplot(2,3,6)\n",
    "ax6 = sns.barplot(x=df6.target.unique(),y=df6.target.value_counts())\n",
    "ax6.set(xlabel='Labels', ylabel=\"counts\", title=\"df6\")"
   ]
  },
  {
   "cell_type": "code",
   "execution_count": 28,
   "metadata": {},
   "outputs": [
    {
     "data": {
      "image/png": "[encoded data removed]",
      "text/plain": [
       "<Figure size 360x216 with 1 Axes>"
      ]
     },
     "metadata": {
      "needs_background": "light"
     },
     "output_type": "display_data"
    }
   ],
   "source": [
    "fig = plt.figure(figsize=(5,3))\n",
    "plt.title('general (non-depressive) dataset')\n",
    "ax = sns.barplot(x=df0.target.unique(),y=df0.target.value_counts());\n",
    "ax.set(xlabel='Labels');"
   ]
  },
  {
   "cell_type": "code",
   "execution_count": null,
   "metadata": {},
   "outputs": [],
   "source": []
  }
 ],
 "metadata": {
  "kernelspec": {
   "display_name": "Python 3",
   "language": "python",
   "name": "python3"
  },
  "language_info": {
   "codemirror_mode": {
    "name": "ipython",
    "version": 3
   },
   "file_extension": ".py",
   "mimetype": "text/x-python",
   "name": "python",
   "nbconvert_exporter": "python",
   "pygments_lexer": "ipython3",
   "version": "3.6.8"
  }
 },
 "nbformat": 4,
 "nbformat_minor": 2
}
